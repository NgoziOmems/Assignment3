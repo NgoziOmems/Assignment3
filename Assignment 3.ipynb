{
 "cells": [
  {
   "cell_type": "code",
   "execution_count": 2,
   "id": "f55f6f28",
   "metadata": {},
   "outputs": [],
   "source": [
    "#Create a system that asks for username and password. It should only allow access when login credentials are correct \n",
    "#Create a dictionary with key:Username and value Password. Assign them corresponding items.\n",
    "credentials={'Username':['Ngozi','Uchenna','Ebube'],'Password':['Ngozi100%', 'Uche2024','bubite1994']}"
   ]
  },
  {
   "cell_type": "code",
   "execution_count": 3,
   "id": "aa512109",
   "metadata": {},
   "outputs": [
    {
     "data": {
      "text/plain": [
       "{'Username': ['Ngozi', 'Uchenna', 'Ebube'],\n",
       " 'Password': ['Ngozi100%', 'Uche2024', 'bubite1994']}"
      ]
     },
     "execution_count": 3,
     "metadata": {},
     "output_type": "execute_result"
    }
   ],
   "source": [
    "credentials"
   ]
  },
  {
   "cell_type": "code",
   "execution_count": 8,
   "id": "68acf51d",
   "metadata": {},
   "outputs": [
    {
     "name": "stdout",
     "output_type": "stream",
     "text": [
      "hello,enter your username: Ngozi\n",
      "enter your password: Ngozi100%\n",
      "Login successful\n"
     ]
    }
   ],
   "source": [
    "username=input('hello,enter your username: ')\n",
    "password=input('enter your password: ')\n",
    "if username in credentials['Username'] and password in credentials['Password']:\n",
    "    print(f'Login successful')\n",
    "else:\n",
    "    print('Incorrect login credentials')"
   ]
  },
  {
   "cell_type": "code",
   "execution_count": 8,
   "id": "2228219a",
   "metadata": {},
   "outputs": [
    {
     "name": "stdout",
     "output_type": "stream",
     "text": [
      "hello,enter your username: Uchenna\n",
      "enter your password: Uche2024\n",
      "Login successful\n"
     ]
    }
   ],
   "source": [
    "username=input('hello,enter your username: ')\n",
    "password=input('enter your password: ')\n",
    "if username in credentials['Username'] and password in credentials['Password']:\n",
    "    print('Login successful')\n",
    "else:\n",
    "    print('Incorrect login credentials')"
   ]
  },
  {
   "cell_type": "code",
   "execution_count": 9,
   "id": "834048a6",
   "metadata": {},
   "outputs": [
    {
     "name": "stdout",
     "output_type": "stream",
     "text": [
      "hello,enter your username: Ebube\n",
      "enter your password: bubite1994\n",
      "Login successful\n"
     ]
    }
   ],
   "source": [
    "username=input('hello,enter your username: ')\n",
    "password=input('enter your password: ')\n",
    "if username in credentials['Username'] and password in credentials['Password']:\n",
    "    print('Login successful')\n",
    "else:\n",
    "    print('incorrect login details')"
   ]
  },
  {
   "cell_type": "code",
   "execution_count": 14,
   "id": "97b3e91a",
   "metadata": {},
   "outputs": [
    {
     "name": "stdout",
     "output_type": "stream",
     "text": [
      "hello,enter your username: Emeka\n",
      "enter your password: Uche2024\n",
      "Incorrect login details, please try again\n"
     ]
    }
   ],
   "source": [
    "username=input('hello,enter your username: ')\n",
    "password=input('enter your password: ')\n",
    "if username in credentials['Username'] and password in credentials['Password']:\n",
    "    print('successful')\n",
    "else:\n",
    "    print(f'Incorrect login details, please try again')"
   ]
  },
  {
   "cell_type": "code",
   "execution_count": 16,
   "id": "5d676174",
   "metadata": {},
   "outputs": [
    {
     "name": "stdout",
     "output_type": "stream",
     "text": [
      "hello,enter your username: Ngozi\n",
      "enter your password: Uche2024\n",
      "successful\n"
     ]
    }
   ],
   "source": [
    "username=input('hello,enter your username: ')\n",
    "password=input('enter your password: ')\n",
    "if username in credentials['Username'] and password in credentials['Password']:\n",
    "    print('successful')\n",
    "else:\n",
    "    print(f'Incorrect login details, please try again')"
   ]
  },
  {
   "cell_type": "markdown",
   "id": "ac11bff8",
   "metadata": {},
   "source": [
    "       OR"
   ]
  },
  {
   "cell_type": "code",
   "execution_count": 9,
   "id": "2556afbd",
   "metadata": {},
   "outputs": [],
   "source": [
    "details={'Ngozi': 'Ngozi100%','Uche':'Uche2024','Zane':'Chimaobi2'}"
   ]
  },
  {
   "cell_type": "code",
   "execution_count": 10,
   "id": "10a5b7bd",
   "metadata": {},
   "outputs": [
    {
     "data": {
      "text/plain": [
       "{'Ngozi': 'Ngozi100%', 'Uche': 'Uche2024', 'Zane': 'Chimaobi2'}"
      ]
     },
     "execution_count": 10,
     "metadata": {},
     "output_type": "execute_result"
    }
   ],
   "source": [
    "details"
   ]
  },
  {
   "cell_type": "code",
   "execution_count": 11,
   "id": "2a014b1b",
   "metadata": {},
   "outputs": [
    {
     "data": {
      "text/plain": [
       "dict_keys(['Ngozi', 'Uche', 'Zane'])"
      ]
     },
     "execution_count": 11,
     "metadata": {},
     "output_type": "execute_result"
    }
   ],
   "source": [
    "details.keys()"
   ]
  },
  {
   "cell_type": "code",
   "execution_count": 13,
   "id": "cef1a95a",
   "metadata": {},
   "outputs": [
    {
     "data": {
      "text/plain": [
       "'Ngozi100%'"
      ]
     },
     "execution_count": 13,
     "metadata": {},
     "output_type": "execute_result"
    }
   ],
   "source": [
    "details['Ngozi']"
   ]
  },
  {
   "cell_type": "code",
   "execution_count": 18,
   "id": "37c565ae",
   "metadata": {},
   "outputs": [
    {
     "name": "stdout",
     "output_type": "stream",
     "text": [
      "hello,enter your username: Ngozi\n",
      "enter your password: Ngozi100%\n",
      "successful\n"
     ]
    }
   ],
   "source": [
    "username=input('hello,enter your username: ')\n",
    "password=input('enter your password: ')\n",
    "if username in details.keys() and password in details['Ngozi']:\n",
    "    print('successful')\n",
    "else:\n",
    "    print(f'Incorrect login details, please try again')"
   ]
  },
  {
   "cell_type": "code",
   "execution_count": 20,
   "id": "d3ff3bf2",
   "metadata": {},
   "outputs": [
    {
     "name": "stdout",
     "output_type": "stream",
     "text": [
      "hello,enter your username: Ngozi\n",
      "enter your password: Ngozi100%\n",
      "successful\n"
     ]
    }
   ],
   "source": [
    "username=input('hello,enter your username: ')\n",
    "password=input('enter your password: ')\n",
    "if username in details.keys() and password == details['Ngozi']:\n",
    "    print('successful')\n",
    "else:\n",
    "    print(f'Incorrect login details, please try again')"
   ]
  },
  {
   "cell_type": "code",
   "execution_count": 21,
   "id": "5703d656",
   "metadata": {},
   "outputs": [
    {
     "name": "stdout",
     "output_type": "stream",
     "text": [
      "hello,enter your username: Ngozi\n",
      "enter your password: Uche2024\n",
      "Incorrect login details, please try again\n"
     ]
    }
   ],
   "source": [
    "username=input('hello,enter your username: ')\n",
    "password=input('enter your password: ')\n",
    "if username in details.keys() and password == details['Ngozi']:\n",
    "    print('successful')\n",
    "else:\n",
    "    print(f'Incorrect login details, please try again')"
   ]
  },
  {
   "cell_type": "code",
   "execution_count": 22,
   "id": "179c43a8",
   "metadata": {},
   "outputs": [
    {
     "name": "stdout",
     "output_type": "stream",
     "text": [
      "hello,enter your username: Uche\n",
      "enter your password: Uche2024\n",
      "Incorrect login details, please try again\n"
     ]
    }
   ],
   "source": [
    "username=input('hello,enter your username: ')\n",
    "password=input('enter your password: ')\n",
    "if username in details.keys() and password == details['Ngozi']:\n",
    "    print('successful')\n",
    "else:\n",
    "    print(f'Incorrect login details, please try again')"
   ]
  },
  {
   "cell_type": "code",
   "execution_count": null,
   "id": "26f44240",
   "metadata": {},
   "outputs": [],
   "source": []
  }
 ],
 "metadata": {
  "kernelspec": {
   "display_name": "Python 3 (ipykernel)",
   "language": "python",
   "name": "python3"
  },
  "language_info": {
   "codemirror_mode": {
    "name": "ipython",
    "version": 3
   },
   "file_extension": ".py",
   "mimetype": "text/x-python",
   "name": "python",
   "nbconvert_exporter": "python",
   "pygments_lexer": "ipython3",
   "version": "3.11.5"
  }
 },
 "nbformat": 4,
 "nbformat_minor": 5
}
